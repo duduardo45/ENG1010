{
 "cells": [
  {
   "cell_type": "code",
   "execution_count": 41,
   "metadata": {},
   "outputs": [],
   "source": [
    "import pandas as pd\n",
    "import numpy as np\n",
    "import matplotlib.pyplot as plt\n"
   ]
  },
  {
   "cell_type": "code",
   "execution_count": 42,
   "metadata": {},
   "outputs": [],
   "source": [
    "df = pd.read_csv('colisoes.csv')"
   ]
  },
  {
   "cell_type": "code",
   "execution_count": 43,
   "metadata": {},
   "outputs": [],
   "source": [
    "df['cumm_sum'] = df['count'].cumsum()"
   ]
  },
  {
   "cell_type": "code",
   "execution_count": null,
   "metadata": {},
   "outputs": [],
   "source": [
    "df['count'].sum()"
   ]
  },
  {
   "cell_type": "code",
   "execution_count": null,
   "metadata": {},
   "outputs": [],
   "source": [
    "fig, ax1 = plt.subplots(figsize=(80, 20))\n",
    "\n",
    "ax1.plot(df['colision'], df['cumm_sum'], label='Cumulative Sum', color='blue') # , marker='o'\n",
    "ax1.set_xlabel('Index')\n",
    "ax1.set_ylabel('Cumulative Sum', color='blue')\n",
    "ax1.tick_params(axis='y', labelcolor='blue')\n",
    "\n",
    "ax1.set_xlim([df['colision'].min()-5, df['colision'].max() + 5])\n",
    "ax1.set_ylim([df['cumm_sum'].min(), df['cumm_sum'].max() + 5])\n",
    "\n",
    "ax2 = ax1.twinx()\n",
    "\n",
    "ax2.plot(df.loc[(df['count'] != 0), 'colision'], df.loc[(df['count'] != 0), 'count'], label='Values', color='red', marker='x', linestyle='None')\n",
    "ax2.set_ylabel('Values', color='red')\n",
    "ax2.tick_params(axis='y', labelcolor='red')\n",
    "\n",
    "ax2.set_ylim([df['count'].min(), df['count'].max() + 2])\n",
    "\n",
    "ax3 = ax1.twinx()\n",
    "\n",
    "ax3.plot(df['colision'], df['count'], label='Values', color='red', linestyle='solid', linewidth=0.2)\n",
    "ax3.set_ylim([df['count'].min(), df['count'].max() + 2])\n",
    "\n",
    "x_values = np.linspace(df['colision'].min(), df['colision'].max(), num=101, dtype=int)\n",
    "ax1.set_xticks(x_values)\n",
    "\n",
    "y1_values = np.linspace(df['cumm_sum'].min(), df['cumm_sum'].max(), num=10, dtype=int)\n",
    "ax1.set_yticks(y1_values)\n",
    "\n",
    "y2_values = np.linspace(df['count'].min(), df['count'].max(), num=20, dtype=int)\n",
    "ax2.set_yticks(y2_values)\n",
    "\n",
    "ax1.grid(color='#7777FF')\n",
    "ax2.grid(color='#FF7777')\n",
    "\n",
    "plt.savefig('collisions-per-insertion.svg', format='svg')\n",
    "\n",
    "plt.show()"
   ]
  }
 ],
 "metadata": {
  "kernelspec": {
   "display_name": "venv",
   "language": "python",
   "name": "python3"
  },
  "language_info": {
   "codemirror_mode": {
    "name": "ipython",
    "version": 3
   },
   "file_extension": ".py",
   "mimetype": "text/x-python",
   "name": "python",
   "nbconvert_exporter": "python",
   "pygments_lexer": "ipython3",
   "version": "3.12.7"
  }
 },
 "nbformat": 4,
 "nbformat_minor": 2
}
